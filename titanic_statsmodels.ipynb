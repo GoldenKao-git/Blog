{
 "cells": [
  {
   "cell_type": "code",
   "execution_count": 1,
   "metadata": {},
   "outputs": [],
   "source": [
    "import numpy as np\n",
    "import pandas as pd\n",
    "import statsmodels.api as sm\n",
    "import statsmodels.formula.api as smf\n",
    "#from patsy import dmatrices\n",
    "from statsmodels import graphics\n",
    "from resample.bootstrap import bootstrap"
   ]
  },
  {
   "cell_type": "code",
   "execution_count": 2,
   "metadata": {},
   "outputs": [],
   "source": [
    "# Read train/test data\n",
    "train = pd.read_csv(\"/titanic/train.csv\")\n",
    "test = pd.read_csv(\"/titanic/test.csv\")\n",
    "\n",
    "# Exclude messy columns\n",
    "train = train[['Survived', 'Pclass', 'Sex', 'Age', 'SibSp', 'Parch', 'Fare', 'Embarked']]\n",
    "test = test[['Pclass', 'Sex', 'Age', 'SibSp', 'Parch', 'Fare', 'Embarked']]\n",
    "\n",
    "# Remove null / blank fields\n",
    "train = train.dropna()\n",
    "test = test.dropna()"
   ]
  },
  {
   "cell_type": "code",
   "execution_count": 3,
   "metadata": {},
   "outputs": [
    {
     "name": "stdout",
     "output_type": "stream",
     "text": [
      "                 Generalized Linear Model Regression Results                  \n",
      "==============================================================================\n",
      "Dep. Variable:               Survived   No. Observations:                  712\n",
      "Model:                            GLM   Df Residuals:                      703\n",
      "Model Family:                Binomial   Df Model:                            8\n",
      "Link Function:                  logit   Scale:                          1.0000\n",
      "Method:                          IRLS   Log-Likelihood:                -316.17\n",
      "Date:                Wed, 20 May 2020   Deviance:                       632.34\n",
      "Time:                        20:36:40   Pearson chi2:                     736.\n",
      "No. Iterations:                     5                                         \n",
      "Covariance Type:            nonrobust                                         \n",
      "=================================================================================\n",
      "                    coef    std err          z      P>|z|      [0.025      0.975]\n",
      "---------------------------------------------------------------------------------\n",
      "Intercept         5.6374      0.635      8.884      0.000       4.394       6.881\n",
      "Sex[T.male]      -2.6385      0.222    -11.871      0.000      -3.074      -2.203\n",
      "Embarked[T.Q]    -0.8235      0.600     -1.372      0.170      -2.000       0.353\n",
      "Embarked[T.S]    -0.4012      0.270     -1.484      0.138      -0.931       0.129\n",
      "Pclass           -1.1993      0.165     -7.285      0.000      -1.522      -0.877\n",
      "Age              -0.0433      0.008     -5.266      0.000      -0.059      -0.027\n",
      "SibSp            -0.3632      0.129     -2.815      0.005      -0.616      -0.110\n",
      "Parch            -0.0603      0.124     -0.486      0.627      -0.303       0.183\n",
      "Fare              0.0014      0.003      0.566      0.572      -0.004       0.006\n",
      "=================================================================================\n"
     ]
    }
   ],
   "source": [
    "lmod = smf.glm('Survived ~ Pclass + Sex + Age + SibSp + Parch + Fare + Embarked', data=train, family=sm.families.Binomial())\n",
    "res = lmod.fit()\n",
    "print(res.summary())"
   ]
  },
  {
   "cell_type": "code",
   "execution_count": 4,
   "metadata": {},
   "outputs": [
    {
     "data": {
      "image/png": "[encoded data removed]",
      "text/plain": [
       "<Figure size 432x288 with 1 Axes>"
      ]
     },
     "execution_count": 4,
     "metadata": {},
     "output_type": "execute_result"
    },
    {
     "data": {
      "image/png": "[encoded data removed]",
      "text/plain": [
       "<Figure size 432x288 with 1 Axes>"
      ]
     },
     "metadata": {
      "needs_background": "light"
     },
     "output_type": "display_data"
    }
   ],
   "source": [
    "resid = res.resid_deviance.copy()\n",
    "graphics.gofplots.qqplot(resid, line='r')"
   ]
  },
  {
   "cell_type": "code",
   "execution_count": 5,
   "metadata": {},
   "outputs": [
    {
     "name": "stdout",
     "output_type": "stream",
     "text": [
      "0      0.051822\n",
      "1      0.320343\n",
      "2      0.052305\n",
      "3      0.103578\n",
      "4      0.569265\n",
      "         ...   \n",
      "409    0.751127\n",
      "411    0.855239\n",
      "412    0.607251\n",
      "414    0.948015\n",
      "415    0.065459\n",
      "Length: 331, dtype: float64\n"
     ]
    }
   ],
   "source": [
    "probs = res.predict(test)\n",
    "\n",
    "uprobs = np.unique(probs)\n",
    "n1 = np.sum(test['Survied'])\n",
    "\n",
    "sens = np.zeros_like(uprobs)\n",
    "spec = np.zeros_like(uprobs)\n",
    "for i,j in enumerate(uprobs):\n",
    "    sens[i] = np.sum((scores >= j) * test['Survived']) / float(n1)\n",
    "    spec[i] = np.sum((scores <= j) * (1-test['Survived'])) / float(n - n1)\n",
    "    \n",
    "plt.plot(1 - spec, sens, '-')\n",
    "plt.plot([0,1], [0,1], '-', color='grey')\n",
    "plt.xlabel(\"1 - Specificity\", size=17)\n",
    "plt.ylabel(\"Sensitivity\", size=17)"
   ]
  },
  {
   "cell_type": "code",
   "execution_count": null,
   "metadata": {},
   "outputs": [],
   "source": [
    "def logit_bootstrap(A):\n",
    "    X = A[:, 1:A.shape[1]]\n",
    "    y = A[:, [0]]\n",
    "    lmod = sm.GLM(y, X, family=sm.families.Binomial())\n",
    "    lmod.fit(X, y)\n",
    "    return {\"coef\": lmod.coef_, \"intercept\": lmod.intercept_}\n",
    "\n",
    "#logit_boot = bootstrap(a=train.values, f=logit_bootstrap, b=2)"
   ]
  },
  {
   "cell_type": "code",
   "execution_count": 6,
   "metadata": {},
   "outputs": [
    {
     "data": {
      "text/html": [
       "<div>\n",
       "<style scoped>\n",
       "    .dataframe tbody tr th:only-of-type {\n",
       "        vertical-align: middle;\n",
       "    }\n",
       "\n",
       "    .dataframe tbody tr th {\n",
       "        vertical-align: top;\n",
       "    }\n",
       "\n",
       "    .dataframe thead th {\n",
       "        text-align: right;\n",
       "    }\n",
       "</style>\n",
       "<table border=\"1\" class=\"dataframe\">\n",
       "  <thead>\n",
       "    <tr style=\"text-align: right;\">\n",
       "      <th></th>\n",
       "      <th>0</th>\n",
       "      <th>1</th>\n",
       "    </tr>\n",
       "  </thead>\n",
       "  <tbody>\n",
       "    <tr>\n",
       "      <th>Intercept</th>\n",
       "      <td>4.393710</td>\n",
       "      <td>6.881103</td>\n",
       "    </tr>\n",
       "    <tr>\n",
       "      <th>Sex[T.male]</th>\n",
       "      <td>-3.074091</td>\n",
       "      <td>-2.202862</td>\n",
       "    </tr>\n",
       "    <tr>\n",
       "      <th>Embarked[T.Q]</th>\n",
       "      <td>-1.999972</td>\n",
       "      <td>0.352882</td>\n",
       "    </tr>\n",
       "    <tr>\n",
       "      <th>Embarked[T.S]</th>\n",
       "      <td>-0.930959</td>\n",
       "      <td>0.128532</td>\n",
       "    </tr>\n",
       "    <tr>\n",
       "      <th>Pclass</th>\n",
       "      <td>-1.521898</td>\n",
       "      <td>-0.876604</td>\n",
       "    </tr>\n",
       "    <tr>\n",
       "      <th>Age</th>\n",
       "      <td>-0.059485</td>\n",
       "      <td>-0.027215</td>\n",
       "    </tr>\n",
       "    <tr>\n",
       "      <th>SibSp</th>\n",
       "      <td>-0.616077</td>\n",
       "      <td>-0.110339</td>\n",
       "    </tr>\n",
       "    <tr>\n",
       "      <th>Parch</th>\n",
       "      <td>-0.303110</td>\n",
       "      <td>0.182570</td>\n",
       "    </tr>\n",
       "    <tr>\n",
       "      <th>Fare</th>\n",
       "      <td>-0.003529</td>\n",
       "      <td>0.006392</td>\n",
       "    </tr>\n",
       "  </tbody>\n",
       "</table>\n",
       "</div>"
      ],
      "text/plain": [
       "                      0         1\n",
       "Intercept      4.393710  6.881103\n",
       "Sex[T.male]   -3.074091 -2.202862\n",
       "Embarked[T.Q] -1.999972  0.352882\n",
       "Embarked[T.S] -0.930959  0.128532\n",
       "Pclass        -1.521898 -0.876604\n",
       "Age           -0.059485 -0.027215\n",
       "SibSp         -0.616077 -0.110339\n",
       "Parch         -0.303110  0.182570\n",
       "Fare          -0.003529  0.006392"
      ]
     },
     "execution_count": 6,
     "metadata": {},
     "output_type": "execute_result"
    }
   ],
   "source": [
    "res.conf_int()"
   ]
  }
 ],
 "metadata": {
  "kernelspec": {
   "display_name": "Python 3",
   "language": "python",
   "name": "python3"
  },
  "language_info": {
   "codemirror_mode": {
    "name": "ipython",
    "version": 3
   },
   "file_extension": ".py",
   "mimetype": "text/x-python",
   "name": "python",
   "nbconvert_exporter": "python",
   "pygments_lexer": "ipython3",
   "version": "3.7.6"
  }
 },
 "nbformat": 4,
 "nbformat_minor": 4
}
